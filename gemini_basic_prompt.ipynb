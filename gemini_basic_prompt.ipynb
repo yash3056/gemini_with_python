{
 "cells": [
  {
   "cell_type": "markdown",
   "id": "ec8783af-e16f-49c3-b9ad-d7496efa33dd",
   "metadata": {},
   "source": [
    " **Initialize the generative model**\n",
    " \n",
    "Before you can make any API calls, you need to import and initialize the generative model."
   ]
  },
  {
   "cell_type": "code",
   "execution_count": 1,
   "id": "b560f74d-d43a-49b9-a80d-2800366f62c1",
   "metadata": {
    "scrolled": true
   },
   "outputs": [],
   "source": [
    "import google.generativeai as genai\n",
    "from dotenv import load_dotenv\n",
    "import os\n",
    "\n",
    "load_dotenv()\n",
    "genai.configure(api_key=os.environ['API_KEY'])\n",
    "model = genai.GenerativeModel(model_name=\"gemini-1.5-flash-latest\")"
   ]
  },
  {
   "cell_type": "code",
   "execution_count": 2,
   "id": "faf0edf6-321f-4537-8675-d5ce43677c2b",
   "metadata": {},
   "outputs": [
    {
     "name": "stdout",
     "output_type": "stream",
     "text": [
      "The old, leather-bound backpack had been passed down through generations in the Thorne family. It was rumored to have belonged to a traveling wizard, imbued with a touch of magic. As a child, Finn Thorne had listened with wide eyes to his grandfather’s stories of its wondrous powers. Now, at sixteen, Finn felt a surge of skepticism. He thought it was just a dusty relic, a symbol of family lore.\n",
      "\n",
      "One stormy night, as Finn trekked through the woods, searching for a lost dog, the storm intensified. He was soaked, shivering, and beginning to panic. He stumbled upon a hollowed-out tree, taking shelter inside. He pulled the backpack off his shoulders, its weight surprisingly light.\n",
      "\n",
      "As he fumbled for his phone, his hand brushed against something inside the backpack. He pulled out a small, silver compass. The needle spun wildly, then settled, pointing towards the north. He had never seen a compass behave that way. Tentatively, he followed its direction.\n",
      "\n",
      "The path the compass led him on was unfamiliar, but it was oddly familiar at the same time. The trees were different, the air smelled different, yet there was a sense of belonging, of returning home. He reached a clearing and gasped. A small, wooden cabin sat in the center, bathed in an ethereal glow. The scent of freshly baked bread wafted from its open door.\n",
      "\n",
      "A woman with eyes as bright as the moon stood in the doorway. “Welcome home, Finn,” she said, her voice as warm as the glow emanating from the cabin.\n",
      "\n",
      "Finn, speechless, simply stared. He had never seen this woman before, but he felt an inexplicable sense of familiarity. The woman smiled and gestured to the cabin. “Come in, child. You must be cold.”\n",
      "\n",
      "Inside the cabin, a roaring fire crackled in the hearth. The woman, who introduced herself as Elara, offered him a mug of hot, spiced tea and a warm blanket. Over the next few hours, she told him stories of his ancestors, stories he had never heard before. He learned about his great-great-grandmother, a powerful sorceress, who had used the magic of the backpack to travel across the realms. He learned about the ancient magic woven into the fabric of the backpack, its ability to grant wishes and offer protection.\n",
      "\n",
      "As the storm raged outside, Finn felt a wave of emotion. He felt connected to a history he never knew existed. The backpack wasn't just a relic; it was a legacy, a link to his past and a promise of a future filled with possibility.\n",
      "\n",
      "The next morning, Elara showed Finn how to use the backpack's magic. He discovered that he could summon anything he desired, within reason, from within its depths. The compass, he realized, was a guide, not just to physical locations, but to the hidden paths of his heart, the path he was meant to walk.\n",
      "\n",
      "From that day on, Finn carried the backpack not just as a symbol of his family, but as a source of power, wisdom, and belonging. The magic of the backpack, he learned, was not just about objects or wishes, but about the magic of connection, the magic of finding his place in the world, and the magic of understanding his true self.  He knew, with certainty, that his journey had just begun. \n",
      "\n"
     ]
    }
   ],
   "source": [
    "response = model.generate_content(\"Write a story about a magic backpack.\")\n",
    "print(response.text)"
   ]
  }
 ],
 "metadata": {
  "kernelspec": {
   "display_name": "Python 3 (ipykernel)",
   "language": "python",
   "name": "python3"
  },
  "language_info": {
   "codemirror_mode": {
    "name": "ipython",
    "version": 3
   },
   "file_extension": ".py",
   "mimetype": "text/x-python",
   "name": "python",
   "nbconvert_exporter": "python",
   "pygments_lexer": "ipython3",
   "version": "3.11.9"
  }
 },
 "nbformat": 4,
 "nbformat_minor": 5
}
